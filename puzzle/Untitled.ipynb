{
 "cells": [
  {
   "cell_type": "code",
   "execution_count": 26,
   "metadata": {},
   "outputs": [
    {
     "name": "stdout",
     "output_type": "stream",
     "text": [
      "3\n",
      "1\n",
      "7\n",
      "5\n"
     ]
    }
   ],
   "source": [
    "class BST:\n",
    "    def __init__(self, val):\n",
    "        self.l_child = None\n",
    "        self.r_child = None\n",
    "        self.data = val\n",
    "\n",
    "def binary_insert(root, node):\n",
    "    if root is None:\n",
    "        root = node\n",
    "    else:\n",
    "        if root.data > node.data:\n",
    "            if root.l_child is None:\n",
    "                root.l_child = node\n",
    "            else:\n",
    "                binary_insert(root.l_child, node)\n",
    "        else:\n",
    "            if root.r_child is None:\n",
    "                root.r_child = node\n",
    "            else:\n",
    "                binary_insert(root.r_child, node)\n",
    "\n",
    "def in_order_print(root):\n",
    "    if not root:\n",
    "        return\n",
    "    in_order_print(root.l_child)\n",
    "    print(root.data)\n",
    "    in_order_print(root.r_child)\n",
    "\n",
    "def pre_order_print(root):\n",
    "    if not root:\n",
    "        return\n",
    "    print(root.data)\n",
    "    pre_order_print(root.l_child)\n",
    "    pre_order_print(root.r_child)\n",
    "\n",
    "r = BST(3)\n",
    "binary_insert(r, Node(7))\n",
    "binary_insert(r, Node(1))\n",
    "binary_insert(r, Node(5))\n",
    "pre_order_print(r)"
   ]
  },
  {
   "cell_type": "code",
   "execution_count": null,
   "metadata": {},
   "outputs": [],
   "source": []
  },
  {
   "cell_type": "code",
   "execution_count": null,
   "metadata": {},
   "outputs": [],
   "source": []
  }
 ],
 "metadata": {
  "kernelspec": {
   "display_name": "Python 3",
   "language": "python",
   "name": "python3"
  },
  "language_info": {
   "codemirror_mode": {
    "name": "ipython",
    "version": 3
   },
   "file_extension": ".py",
   "mimetype": "text/x-python",
   "name": "python",
   "nbconvert_exporter": "python",
   "pygments_lexer": "ipython3",
   "version": "3.7.4"
  }
 },
 "nbformat": 4,
 "nbformat_minor": 2
}
