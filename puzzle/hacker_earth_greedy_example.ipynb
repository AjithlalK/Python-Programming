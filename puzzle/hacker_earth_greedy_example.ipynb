{
 "cells": [
  {
   "cell_type": "markdown",
   "metadata": {},
   "source": [
    "    #HackerEarth -Problem\n",
    "    Motu and Patlu are very good friends and they love to eat ice-creams. Once they thought of playing a game, so they bought “n” ice-creams from the market of varying heights (may be same). They arranged the ice-creams in a line in random order. Motu starts to eat ice-creams from left to right and Patlu from right to left. The heights of the ice-creams are known.\n",
    "    \n",
    "    Motu eats the ice-cream as twice the speed of Patlu (that’s the secret for his health :p ). If, anyone of them is eating the ice-cream , then definitely other one cannot have that ice-cream. However, if both of them reach the same ice-cream, Motu snatches it away from Patlu (he got more power than patlu :( ) and eats it. The winner will be the one who will eat more number of ice-creams.\n",
    "\n",
    "    Since, both of them are too busy in eating ice-creams they forgot to count the number of ice-creams they have already eaten. Can you help them in deciding the winner."
   ]
  },
  {
   "cell_type": "code",
   "execution_count": 1,
   "metadata": {},
   "outputs": [
    {
     "name": "stdout",
     "output_type": "stream",
     "text": [
      "3\n",
      "5\n",
      "2 6 2 1 7\n",
      "4 1\n",
      "Motu\n",
      "4\n",
      "15 2 1 3\n",
      "1 3\n",
      "Patlu\n",
      "5\n",
      "2 4 12 4 7\n",
      "3 2\n",
      "Motu\n"
     ]
    }
   ],
   "source": [
    "t=int(input())\n",
    "while(t):\n",
    "    t=t-1\n",
    "    n=int(input())\n",
    "    a=[int(number) for number in input().split(' ')]\n",
    "    if n==1:\n",
    "        print(\"1 0\")\n",
    "        print(\"Motu\")\n",
    "    else:    \n",
    "        for i in range(n):\n",
    "            i,j=0,n-1\n",
    "            sum1,sum2=0,0\n",
    "            while i<=j:\n",
    "                if sum1<=2*sum2:\n",
    "                    while (sum1<=2*sum2 and i<=j):\n",
    "                        sum1=sum1+a[i]\n",
    "                        i=i+1\n",
    "                else:\n",
    "                    if(sum1>sum2):\n",
    "                        while(sum1>2*sum2 and j>=i):\n",
    "                            sum2=sum2+a[j]\n",
    "                            j=j-1\n",
    "\n",
    "        p,q=i,n-j-1\n",
    "        print(p,q)\n",
    "        if p>q:\n",
    "            print(\"Motu\")\n",
    "        elif q>p:\n",
    "            print(\"Patlu\")\n",
    "        else:\n",
    "            print(\"Tie\")"
   ]
  },
  {
   "cell_type": "markdown",
   "metadata": {},
   "source": []
  },
  {
   "cell_type": "code",
   "execution_count": null,
   "metadata": {},
   "outputs": [],
   "source": []
  }
 ],
 "metadata": {
  "kernelspec": {
   "display_name": "Python 3",
   "language": "python",
   "name": "python3"
  },
  "language_info": {
   "codemirror_mode": {
    "name": "ipython",
    "version": 3
   },
   "file_extension": ".py",
   "mimetype": "text/x-python",
   "name": "python",
   "nbconvert_exporter": "python",
   "pygments_lexer": "ipython3",
   "version": "3.7.4"
  }
 },
 "nbformat": 4,
 "nbformat_minor": 2
}
