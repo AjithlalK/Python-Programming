{
 "cells": [
  {
   "cell_type": "code",
   "execution_count": 4,
   "metadata": {},
   "outputs": [],
   "source": [
    "def move(source,target):\n",
    "    print(\"Move Disc from {} to {}   \".format(source,target))"
   ]
  },
  {
   "cell_type": "code",
   "execution_count": 5,
   "metadata": {},
   "outputs": [
    {
     "name": "stdout",
     "output_type": "stream",
     "text": [
      "Move Disc from A to B   \n"
     ]
    }
   ],
   "source": [
    "move(\"A\",\"B\")"
   ]
  },
  {
   "cell_type": "code",
   "execution_count": 10,
   "metadata": {},
   "outputs": [],
   "source": [
    "def hanoi(n,source,helper,target):\n",
    "    if n==0:\n",
    "        pass\n",
    "    else:\n",
    "        hanoi(n-1,source,target,helper)\n",
    "        move(source,target)\n",
    "        hanoi(n-1,helper,source,target)\n",
    "    "
   ]
  },
  {
   "cell_type": "code",
   "execution_count": 11,
   "metadata": {},
   "outputs": [
    {
     "name": "stdout",
     "output_type": "stream",
     "text": [
      "Move Disc from A to B   \n",
      "Move Disc from A to C   \n",
      "Move Disc from B to C   \n",
      "Move Disc from A to B   \n",
      "Move Disc from C to A   \n",
      "Move Disc from C to B   \n",
      "Move Disc from A to B   \n",
      "Move Disc from A to C   \n",
      "Move Disc from B to C   \n",
      "Move Disc from B to A   \n",
      "Move Disc from C to A   \n",
      "Move Disc from B to C   \n",
      "Move Disc from A to B   \n",
      "Move Disc from A to C   \n",
      "Move Disc from B to C   \n"
     ]
    }
   ],
   "source": [
    "hanoi(4,\"A\",\"B\",\"C\")"
   ]
  },
  {
   "cell_type": "code",
   "execution_count": null,
   "metadata": {},
   "outputs": [],
   "source": []
  }
 ],
 "metadata": {
  "kernelspec": {
   "display_name": "Python 3",
   "language": "python",
   "name": "python3"
  },
  "language_info": {
   "codemirror_mode": {
    "name": "ipython",
    "version": 3
   },
   "file_extension": ".py",
   "mimetype": "text/x-python",
   "name": "python",
   "nbconvert_exporter": "python",
   "pygments_lexer": "ipython3",
   "version": "3.7.4"
  }
 },
 "nbformat": 4,
 "nbformat_minor": 2
}
