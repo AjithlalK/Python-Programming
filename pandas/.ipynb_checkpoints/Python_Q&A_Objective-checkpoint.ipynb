{
 "cells": [
  {
   "cell_type": "markdown",
   "metadata": {},
   "source": [
    "    Q51. In separated value files such as .csv and .tsv, what does the first row in the file typically contain?\n",
    "    \n",
    "    Ans : a) The column names of the data."
   ]
  },
  {
   "cell_type": "markdown",
   "metadata": {},
   "source": [
    "    Q52. Assume you have a file object my_data, which has properly opened a separated value file that uses the tab character (\\t) as the delimiter.What is the proper way to open the file using the Python CSV module and assign it to the variable csv_reader?\n",
    "           Assume that csv has already been imported\n",
    "    \n",
    "    Ans : b) csv.reader(my_data, delimiter='\\t')"
   ]
  },
  {
   "cell_type": "markdown",
   "metadata": {},
   "source": [
    "    Q53. When iterating over an object returned from csv.reader(), what is returned with each iteration?For example, given the following code block that assumes csv_reader is an object returned from csv.reader(), what would be printed to the console with each iteration?\n",
    "\n",
    "    for item in csv_reader:\n",
    "        print(item)\n",
    "        \n",
    "     Ans : b) The row data as a list      "
   ]
  },
  {
   "cell_type": "markdown",
   "metadata": {},
   "source": [
    "    Q54. When writing to a CSV file using the .writerow() method of the csv.DictWriter object, what must each key in the input dict represent? Below is an example:\n",
    "    \n",
    "    with open('resources/ex1 - Copy22.csv', mode='w') as csv_file:\n",
    "        writer = csv.DictWriter(\n",
    "            csv_file,\n",
    "            fieldnames=['first_col', 'second_col'] )\n",
    "        writer.writeheader()\n",
    "        # This input dictionary is what the question is referring\n",
    "        # to and is not necessarily correct as shown.\n",
    "        writer.writerow({'first_col':'value1', 'second_col':'value2'})\n",
    "        \n",
    "    Ans :c) Each key must match up to the field names (column names) used to identify the column data"
   ]
  },
  {
   "cell_type": "markdown",
   "metadata": {},
   "source": [
    "    Q55. Which is the correct way to open the CSV file hrdata.csv for reading using the pandas package? Assume that the pandas\n",
    "    package has already been imported.\n",
    "    \n",
    "    Ans : c) pandas.read_csv('hrdata.csv')"
   ]
  },
  {
   "cell_type": "markdown",
   "metadata": {},
   "source": [
    "    Q56. By default, pandas uses 0-based indices for indexing rows. Which is the correct way to import the CSV file hrdata.csv\n",
    "        for reading and using the 'Name' column as the index row instead?\n",
    "        \n",
    "        Below is the contents of hrdata.csv\n",
    "        Name,Hire Date,Salary,Sick Days remaining\n",
    "        Fred,10/10/10,10000,10\n",
    "        \n",
    "    Ans : d) pandas.read_csv('hrdata.csv', index_col=0) "
   ]
  },
  {
   "cell_type": "markdown",
   "metadata": {},
   "source": [
    "    Q57. Given the file dog_breeds.txt, which of the following is the correct way to open the file for reading as a text file? Select all that apply.\n",
    "    \n",
    "    Ans : b) open('dog_breeds.txt', 'r')\n",
    "          c) open('dog_breeds.txt')\n",
    "         "
   ]
  },
  {
   "cell_type": "markdown",
   "metadata": {},
   "source": [
    "    Q58. Given the following directory structure:\n",
    "        Assuming that the cwd is in the root folder where animals reside, what is the full path to \n",
    "        the feline folder?\n",
    "        \n",
    "     Ans : Import os \n",
    "            os.chdir(‘cwd\\\\animals\\\\feline’) \n",
    "            os.getcwd()    "
   ]
  },
  {
   "cell_type": "markdown",
   "metadata": {},
   "source": [
    "    Q59. Given the file jack_russell.png, which of the following is the correct way to open the file for reading as a buffered binary file? Select all that apply.\n",
    "    \n",
    "    Ans : open('jack_russell.png', 'rb')"
   ]
  },
  {
   "cell_type": "markdown",
   "metadata": {},
   "source": [
    "    Q60.Using the same directory structure as before:\n",
    "    Assuming that the cwd is in the root folder where Animals reside, what is the full path to the file bears.gif?\n",
    "    \n",
    "       Ans: Import os \n",
    "            os.chdir(‘cwd\\\\animals\\\\ursine’) \n",
    "            os.getcwd()"
   ]
  },
  {
   "cell_type": "markdown",
   "metadata": {},
   "source": [
    "    Q61. Whenever possible, what is the recommended way to ensure that a file object is properly closed after usage?\n",
    "    \n",
    "    Ans : c) By using the try/finally block"
   ]
  },
  {
   "cell_type": "markdown",
   "metadata": {},
   "source": [
    "    Q62. Using the same directory structure as before:\n",
    "    Assuming that the cwd is in the feline folder, what is the relative path to the file bears.gif?\n",
    "    \n",
    "    Ans: os.path.relpath(‘..\\\\..feline’, ‘animals\\\\ursine’)"
   ]
  },
  {
   "cell_type": "markdown",
   "metadata": {},
   "source": [
    "    Q63. When reading a file using the file object, what method is best for reading the entire file into a single string?\n",
    "    \n",
    "    Ans : b) .read()"
   ]
  },
  {
   "cell_type": "markdown",
   "metadata": {},
   "source": [
    "    Q64. The value 1.73 rounded to one decimal place using the “rounding up” strategy is…\n",
    "    \n",
    "    Ans : b) 1.7"
   ]
  },
  {
   "cell_type": "markdown",
   "metadata": {},
   "source": [
    "    Q65. The value -2.961 rounded to two decimal places using the “rounding down” strategy is…\n",
    "    \n",
    "    Ans : a) -2.96"
   ]
  },
  {
   "cell_type": "markdown",
   "metadata": {},
   "source": [
    "    Q66. When a value is truncated to 3 decimal places, which of the following is true?\n",
    "    \n",
    "    Ans: a) Positive numbers are rounded up, and negative numbers are rounded down."
   ]
  },
  {
   "cell_type": "markdown",
   "metadata": {},
   "source": [
    "    Q67. The value -0.045 rounded to 2 decimal places using the “round half away from zero” strategy is…\n",
    "    \n",
    "    Ans: b) -0.04"
   ]
  },
  {
   "cell_type": "code",
   "execution_count": null,
   "metadata": {},
   "outputs": [],
   "source": []
  }
 ],
 "metadata": {
  "kernelspec": {
   "display_name": "Python 3",
   "language": "python",
   "name": "python3"
  },
  "language_info": {
   "codemirror_mode": {
    "name": "ipython",
    "version": 3
   },
   "file_extension": ".py",
   "mimetype": "text/x-python",
   "name": "python",
   "nbconvert_exporter": "python",
   "pygments_lexer": "ipython3",
   "version": "3.7.4"
  }
 },
 "nbformat": 4,
 "nbformat_minor": 2
}
