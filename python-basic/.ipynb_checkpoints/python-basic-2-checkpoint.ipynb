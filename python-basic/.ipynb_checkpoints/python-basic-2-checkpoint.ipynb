{
 "cells": [
  {
   "cell_type": "markdown",
   "metadata": {},
   "source": [
    "        Q1.Write a Python Program to implement your own myreduce() function which works exactly like Python's built-in function reduce()"
   ]
  },
  {
   "cell_type": "code",
   "execution_count": 84,
   "metadata": {},
   "outputs": [
    {
     "name": "stdout",
     "output_type": "stream",
     "text": [
      "Enter the limit\n",
      "9\n",
      "362880\n"
     ]
    }
   ],
   "source": [
    "import functools\n",
    "\n",
    "\n",
    "def fact(x,y):\n",
    "    return x*y\n",
    "\n",
    "def main():\n",
    "    print(\"Enter the limit\")\n",
    "    n=int(input())\n",
    "    if n==1 or n==0:\n",
    "        print(1)\n",
    "    else:\n",
    "        factorial=functools.reduce(fact,range(1,n+1))\n",
    "        print(factorial)\n",
    "\n",
    "if __name__ == '__main__':\n",
    "    main()    \n",
    "\n"
   ]
  },
  {
   "cell_type": "markdown",
   "metadata": {},
   "source": [
    "    Q2.Write a Python program to implement your own myfilter() function which works exactly like Python's built-in function filter()"
   ]
  },
  {
   "cell_type": "code",
   "execution_count": 116,
   "metadata": {},
   "outputs": [
    {
     "name": "stdout",
     "output_type": "stream",
     "text": [
      "2\n",
      "4\n",
      "8\n"
     ]
    }
   ],
   "source": [
    "def oddEvenFilter(x):\n",
    "    if x%i==0:\n",
    "        return True\n",
    "    else:\n",
    "        return False\n",
    "    \n",
    "prime_list=filter(oddEvenFilter,range(1,10))\n",
    "for i in prime_list:\n",
    "    print(i)"
   ]
  },
  {
   "cell_type": "markdown",
   "metadata": {},
   "source": [
    "        Q3. Implement List comprehensions to produce the following lists. Write List comprehensions to produce the following Lists ['A', 'C', 'A', 'D', 'G', 'I', ’L’, ‘ D’] \n",
    "      ['x', 'xx', 'xxx', 'xxxx', 'y', 'yy', 'yyy', 'yyyy', 'z', 'zz', 'zzz', 'zzzz']\n",
    "      ['x', 'y', 'z', 'xx', 'yy', 'zz', 'xx', 'yy', 'zz', 'xxxx', 'yyyy', 'zzzz']\n",
    "      [[2], [3], [4], [3], [4], [5], [4], [5], [6]] \n",
    "      [[2, 3, 4, 5], [3, 4, 5, 6], [4, 5, 6, 7], [5, 6, 7, 8]] \n",
    "      [(1, 1), (2, 1), (3, 1), (1, 2), (2, 2), (3, 2), (1, 3), (2, 3), (3, 3)]"
   ]
  },
  {
   "cell_type": "code",
   "execution_count": 1,
   "metadata": {},
   "outputs": [
    {
     "name": "stdout",
     "output_type": "stream",
     "text": [
      "['A', 'C', 'A', 'D', 'G', 'I', 'L', 'D']\n"
     ]
    }
   ],
   "source": [
    "first = \"ACADGILD\"\n",
    "print ([i for i in first])\n",
    "\n"
   ]
  },
  {
   "cell_type": "code",
   "execution_count": 54,
   "metadata": {},
   "outputs": [
    {
     "name": "stdout",
     "output_type": "stream",
     "text": [
      " i :  1 count  1\n",
      " i :  2 count  2\n",
      " i :  2 count  2\n",
      " i :  3 count  3\n",
      " i :  3 count  3\n",
      " i :  3 count  3\n",
      " i :  4 count  1\n",
      " i :  5 count  2\n",
      " i :  5 count  2\n",
      "{1, 2, 3, 4, 5}\n"
     ]
    }
   ],
   "source": [
    "ls=[1, 2, 2, 3, 3, 3, 4, 5, 5]\n",
    "n=0\n",
    "if(len(ls)>100):\n",
    "    raise Exception('Items exceeds the maximum allowed length of 100')\n",
    "ls2=countValue(ls,n) \n",
    "print(ls2)     "
   ]
  },
  {
   "cell_type": "code",
   "execution_count": 51,
   "metadata": {},
   "outputs": [],
   "source": [
    "def countValue(ls,n):\n",
    "    my_set=set()\n",
    "    for i in ls:\n",
    "        if ls.count(i) > n:\n",
    "            my_set.add(i)\n",
    "    return my_set "
   ]
  },
  {
   "cell_type": "code",
   "execution_count": 46,
   "metadata": {},
   "outputs": [],
   "source": [
    "def removeAll(ls, key):\n",
    "    while key in ls: ls.remove(key)\n",
    "    return ls "
   ]
  },
  {
   "cell_type": "code",
   "execution_count": null,
   "metadata": {},
   "outputs": [],
   "source": []
  }
 ],
 "metadata": {
  "kernelspec": {
   "display_name": "Python 3",
   "language": "python",
   "name": "python3"
  }
 },
 "nbformat": 4,
 "nbformat_minor": 2
}
