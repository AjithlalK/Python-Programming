{
 "cells": [
  {
   "cell_type": "markdown",
   "metadata": {},
   "source": [
    "        Q1.Write a Python Program to implement your own myreduce() function which works exactly like Python's built-in function reduce()"
   ]
  },
  {
   "cell_type": "code",
   "execution_count": 84,
   "metadata": {},
   "outputs": [
    {
     "name": "stdout",
     "output_type": "stream",
     "text": [
      "Enter the limit\n",
      "9\n",
      "362880\n"
     ]
    }
   ],
   "source": [
    "import functools\n",
    "\n",
    "\n",
    "def fact(x,y):\n",
    "    return x*y\n",
    "\n",
    "def main():\n",
    "    print(\"Enter the limit\")\n",
    "    n=int(input())\n",
    "    if n==1 or n==0:\n",
    "        print(1)\n",
    "    else:\n",
    "        factorial=functools.reduce(fact,range(1,n+1))\n",
    "        print(factorial)\n",
    "\n",
    "if __name__ == '__main__':\n",
    "    main()    \n",
    "\n"
   ]
  },
  {
   "cell_type": "markdown",
   "metadata": {},
   "source": [
    "    Q2.Write a Python program to implement your own myfilter() function which works exactly like Python's built-in function filter()"
   ]
  },
  {
   "cell_type": "code",
   "execution_count": 116,
   "metadata": {},
   "outputs": [
    {
     "name": "stdout",
     "output_type": "stream",
     "text": [
      "2\n",
      "4\n",
      "8\n"
     ]
    }
   ],
   "source": [
    "def oddEvenFilter(x):\n",
    "    if x%i==0:\n",
    "        return True\n",
    "    else:\n",
    "        return False\n",
    "    \n",
    "prime_list=filter(oddEvenFilter,range(1,10))\n",
    "for i in prime_list:\n",
    "    print(i)"
   ]
  },
  {
   "cell_type": "markdown",
   "metadata": {},
   "source": [
    "        Q3. Implement List comprehensions to produce the following lists. Write List comprehensions to produce the following Lists ['A', 'C', 'A', 'D', 'G', 'I', ’L’, ‘ D’] \n",
    "      ['x', 'xx', 'xxx', 'xxxx', 'y', 'yy', 'yyy', 'yyyy', 'z', 'zz', 'zzz', 'zzzz']\n",
    "      ['x', 'y', 'z', 'xx', 'yy', 'zz', 'xxx', 'yyy', 'zzz', 'xxxx', 'yyyy', 'zzzz']\n",
    "      [[2], [3], [4], [3], [4], [5], [4], [5], [6]] \n",
    "      [[2, 3, 4, 5], [3, 4, 5, 6], [4, 5, 6, 7], [5, 6, 7, 8]] \n",
    "      [(1, 1), (2, 1), (3, 1), (1, 2), (2, 2), (3, 2), (1, 3), (2, 3), (3, 3)]"
   ]
  },
  {
   "cell_type": "code",
   "execution_count": 90,
   "metadata": {},
   "outputs": [
    {
     "name": "stdout",
     "output_type": "stream",
     "text": [
      "['A', 'C', 'A', 'D', 'G', 'I', 'L', 'D']\n",
      "['x', 'xx', 'xxx', 'xxxx', 'y', 'yy', 'yyy', 'yyyy', 'z', 'zz', 'zzz', 'zzzz']\n",
      "['x', 'y', 'z', 'xx', 'yy', 'zz', 'xxx', 'yyy', 'zzz', 'xxxx', 'yyyy', 'zzzz']\n",
      "[[2], [3], [4], [3], [4], [5], [4], [5], [6]]\n",
      "[[2, 3, 4, 5], [3, 4, 5, 6], [4, 5, 6, 7], [5, 6, 7, 8]]\n",
      "[(1, 1), (1, 2), (1, 3), (2, 1), (2, 2), (2, 3), (3, 1), (3, 2), (3, 3)]\n"
     ]
    }
   ],
   "source": [
    "first = \"ACADGILD\"\n",
    "print ([i for i in first])\n",
    "\n",
    "second=['x','y','z']\n",
    "result1=[j*i for i in second for j in range(1,5)]\n",
    "print(result1)\n",
    "\n",
    "third=['x','y','z']\n",
    "result2=[j*i for i in range(1,5) for j in third]\n",
    "print(result2)\n",
    "\n",
    "fourth=[2,3,4]\n",
    "result3=[[i+j] for i in fourth for j in range(0,3)]\n",
    "print(result3)\n",
    "\n",
    "fifth=[2,3,4,5]\n",
    "result4=[ [i+j for i in fifth] for j in range(0,4)]\n",
    "print(result4)\n",
    "\n",
    "sixth=[1,2,3]\n",
    "result5=[(i,j)  for i in sixth  for j in sixth]\n",
    "print(result5)"
   ]
  },
  {
   "cell_type": "markdown",
   "metadata": {},
   "source": [
    "    3. Implement a function longestWord() that takes a list of words and returns the longest one."
   ]
  },
  {
   "cell_type": "code",
   "execution_count": 2,
   "metadata": {},
   "outputs": [
    {
     "name": "stdout",
     "output_type": "stream",
     "text": [
      "Python is dynamically typed and garbage collected\n",
      "dynamically\n"
     ]
    }
   ],
   "source": [
    "def longestWord():\n",
    "    words=input().split(\" \");\n",
    "    length,temp=0,0\n",
    "    word=\"\"\n",
    "    for i in words:\n",
    "        length=len(i)\n",
    "        if length>temp:\n",
    "            temp=length\n",
    "            word=i    \n",
    "    return word    \n",
    "            \n",
    "        \n",
    "        \n",
    "long_word=longestWord()\n",
    "print(long_word)\n",
    "        \n",
    "        "
   ]
  },
  {
   "cell_type": "markdown",
   "metadata": {},
   "source": [
    "    Task 2 1.1 Write a Python Program(with class concepts) to find the area of the triangle using the below formula. \n",
    "    area = (s*(s-a)*(s-b)*(s-c)) ** 0.5 \n",
    "    Function to take the length of the sides of triangle from user should be defined in the parent class and function to   calculate the area should be defined in subclass."
   ]
  },
  {
   "cell_type": "code",
   "execution_count": 14,
   "metadata": {},
   "outputs": [
    {
     "name": "stdout",
     "output_type": "stream",
     "text": [
      "a :  5 b :  6 c :  7\n",
      "Area of triangle is :  14.696938456699069\n"
     ]
    }
   ],
   "source": [
    "class Parent:\n",
    "    def __init__(self, a, b, c):\n",
    "        self.a = a\n",
    "        self.b = b\n",
    "        self.c = c\n",
    "        self.print()\n",
    "\n",
    "    def print(self):\n",
    "        print(\"a : \", self.a, \"b : \", self.b, \"c : \", self.c)\n",
    "\n",
    "\n",
    "class Child(Parent):\n",
    "    def __init__(self, x, y, z):\n",
    "        super().__init__(x, y, z)\n",
    "\n",
    "    def area(self):\n",
    "        s = self.perimeter()\n",
    "        area = (s * (s - self.a) * (s - self.b) * (s - self.c)) ** 0.5\n",
    "        print(\"Area of triangle is : \", area )\n",
    "\n",
    "    def perimeter(self):\n",
    "        s = (self.a + self.b + self.c) / 2\n",
    "        return s\n",
    "\n",
    "\n",
    "p = Child(5, 6, 7)\n",
    "p.area()\n"
   ]
  },
  {
   "cell_type": "markdown",
   "metadata": {},
   "source": [
    "    Qn 1.2 Write a function filter_long_words() that takes a list of words and an integer n and returns the list of words that are longer than n."
   ]
  },
  {
   "cell_type": "code",
   "execution_count": 13,
   "metadata": {},
   "outputs": [
    {
     "name": "stdout",
     "output_type": "stream",
     "text": [
      "ajithlal,K,Krishna,MMlj,JkL\n",
      "3\n",
      "['ajithlal', 'Krishna', 'MMlj']\n"
     ]
    }
   ],
   "source": [
    "def filter_long_words(my_list,n):\n",
    "        return list(filter(lambda x: len(x)>n, my_list))\n",
    "    \n",
    "words=input().split(\",\")\n",
    "n=int(input())\n",
    "result=filter_long_words(words,n)\n",
    "print(result)\n",
    "        "
   ]
  },
  {
   "cell_type": "markdown",
   "metadata": {},
   "source": [
    "    2.1 Write a Python program using function concept that maps list of words into a list of integers representing the lengths of the corresponding words."
   ]
  },
  {
   "cell_type": "code",
   "execution_count": null,
   "metadata": {},
   "outputs": [],
   "source": []
  }
 ],
 "metadata": {
  "kernelspec": {
   "display_name": "Python 3",
   "language": "python",
   "name": "python3"
  },
  "language_info": {
   "codemirror_mode": {
    "name": "ipython",
    "version": 3
   },
   "file_extension": ".py",
   "mimetype": "text/x-python",
   "name": "python",
   "nbconvert_exporter": "python",
   "pygments_lexer": "ipython3",
   "version": "3.7.4"
  }
 },
 "nbformat": 4,
 "nbformat_minor": 2
}
