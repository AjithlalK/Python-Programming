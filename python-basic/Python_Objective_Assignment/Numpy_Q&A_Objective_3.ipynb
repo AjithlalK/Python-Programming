{
 "cells": [
  {
   "cell_type": "markdown",
   "metadata": {},
   "source": [
    "    Q101. Point out the wrong statement:\n",
    "    \n",
    "    Ans: c) rPy provides lots of scientific routines that work on top of NumPy.\n",
    "    "
   ]
  },
  {
   "cell_type": "markdown",
   "metadata": {},
   "source": [
    "    Q102. The ________ function returns its argument with the modified shape, whereas the ________ method modifies the array itself.\n",
    "    \n",
    "    Ans: a) reshape, resize."
   ]
  },
  {
   "cell_type": "markdown",
   "metadata": {},
   "source": [
    "    Q103. To create sequences of the numbers, NumPy provides a function __________ analogous to range that returns arrays instead of lists.\n",
    "    \n",
    "    Ans:a) arrange."
   ]
  },
  {
   "cell_type": "markdown",
   "metadata": {},
   "source": [
    "    Q104. Point out the correct statement:\n",
    "    \n",
    "    Ans:d) All of the Mentioned"
   ]
  },
  {
   "cell_type": "markdown",
   "metadata": {},
   "source": [
    "    Q105. Which of the following function stack 1D array as the columns into the 2D array?\n",
    "    \n",
    "    Ans:b) column_stack."
   ]
  },
  {
   "cell_type": "markdown",
   "metadata": {},
   "source": [
    "    Q106. ndarray is also known as an alias array.\n",
    "    \n",
    "    Ans:a) True"
   ]
  },
  {
   "cell_type": "markdown",
   "metadata": {},
   "source": [
    "    Q107. Which of the following method creates the new array object that looks at the same data?\n",
    "    \n",
    "    Ans:a) view."
   ]
  },
  {
   "cell_type": "markdown",
   "metadata": {},
   "source": [
    "    Q108. Which of the functions can be used to combine thedifferent vectors to obtain the result for each n-uplet?\n",
    "    \n",
    "    Ans: b) ix_."
   ]
  },
  {
   "cell_type": "markdown",
   "metadata": {},
   "source": [
    "    Q109. ndarray.dataitemSize is the buffer containing actual elementsof an array.\n",
    "    \n",
    "    Ans:a) True"
   ]
  },
  {
   "cell_type": "markdown",
   "metadata": {},
   "source": [
    "    Q110. Which of the following is in the NumPy library?\n",
    "    \n",
    "    Ans:d) all of the Mentioned"
   ]
  },
  {
   "cell_type": "markdown",
   "metadata": {},
   "source": [
    "    Q111. Which of the following sets the size of the buffer used in ufuncs ?\n",
    "    \n",
    "    Ans:c) setbufsize(size)"
   ]
  },
  {
   "cell_type": "markdown",
   "metadata": {},
   "source": [
    "    Q112. Point out the wrong statement:\n",
    "    \n",
    "    Ans:b) In Numpy, universal functions are the instances of numpy.ufunction class"
   ]
  },
  {
   "cell_type": "markdown",
   "metadata": {},
   "source": [
    "    Q113. Which of the following attribute should be used while checking thetype combination input and output?\n",
    "    \n",
    "    Ans:a) .types"
   ]
  },
  {
   "cell_type": "markdown",
   "metadata": {},
   "source": [
    "    Q114. Which of the following returns an array of “ones” with the same shape and type as a given array?\n",
    "    \n",
    "    Ans:b) ones_like"
   ]
  },
  {
   "cell_type": "markdown",
   "metadata": {},
   "source": [
    "    Q115. Point out the wrong statement:\n",
    "    \n",
    "    Ans:c) The output of the ufunc is necessarily a ndarray, if all the input arguments are ndarrays"
   ]
  },
  {
   "cell_type": "markdown",
   "metadata": {},
   "source": [
    "    Q116. Which of the following set of a floating-point error callback function or a log object?\n",
    "    \n",
    "    Ans:b) settercall."
   ]
  },
  {
   "cell_type": "markdown",
   "metadata": {},
   "source": [
    "    Q117. Some ufuncs can take output arguments.\n",
    "    \n",
    "    Ans:b) False"
   ]
  },
  {
   "cell_type": "markdown",
   "metadata": {},
   "source": [
    "    Q118. ___________ decompose the elements of x into the mantissa and the two’s exponent.\n",
    "    \n",
    "    Ans:c) frexp"
   ]
  },
  {
   "cell_type": "markdown",
   "metadata": {},
   "source": [
    "    Q119. Which of the following function take the only a single value as input?\n",
    "    \n",
    "    Ans:a) iscomplex."
   ]
  },
  {
   "cell_type": "markdown",
   "metadata": {},
   "source": [
    "    Q120. The array object returned by the _array_prepare_ is passed to ufunc for computation.\n",
    "    \n",
    "    Ans:a) True"
   ]
  },
  {
   "cell_type": "code",
   "execution_count": null,
   "metadata": {},
   "outputs": [],
   "source": []
  }
 ],
 "metadata": {
  "kernelspec": {
   "display_name": "Python 3",
   "language": "python",
   "name": "python3"
  },
  "language_info": {
   "codemirror_mode": {
    "name": "ipython",
    "version": 3
   },
   "file_extension": ".py",
   "mimetype": "text/x-python",
   "name": "python",
   "nbconvert_exporter": "python",
   "pygments_lexer": "ipython3",
   "version": "3.7.4"
  }
 },
 "nbformat": 4,
 "nbformat_minor": 2
}
