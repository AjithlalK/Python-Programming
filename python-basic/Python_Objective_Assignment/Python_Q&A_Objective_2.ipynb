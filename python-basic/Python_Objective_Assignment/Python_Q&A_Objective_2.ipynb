{
 "cells": [
  {
   "cell_type": "markdown",
   "metadata": {},
   "source": [
    "    Q51. In separated value files such as .csv and .tsv, what does the first row in the file typically contain?\n",
    "    \n",
    "    Ans : a) The column names of the data."
   ]
  },
  {
   "cell_type": "markdown",
   "metadata": {},
   "source": [
    "    Q52. Assume you have a file object my_data, which has properly opened a separated value file that uses the tab character (\\t) as the delimiter.What is the proper way to open the file using the Python CSV module and assign it to the variable csv_reader?\n",
    "           Assume that csv has already been imported\n",
    "    \n",
    "    Ans : b) csv.reader(my_data, delimiter='\\t')"
   ]
  },
  {
   "cell_type": "markdown",
   "metadata": {},
   "source": [
    "    Q53. When iterating over an object returned from csv.reader(), what is returned with each iteration?For example, given the following code block that assumes csv_reader is an object returned from csv.reader(), what would be printed to the console with each iteration?\n",
    "\n",
    "    for item in csv_reader:\n",
    "        print(item)\n",
    "        \n",
    "     Ans : b) The row data as a list      "
   ]
  },
  {
   "cell_type": "markdown",
   "metadata": {},
   "source": [
    "    Q54. When writing to a CSV file using the .writerow() method of the csv.DictWriter object, what must each key in the input dict represent? Below is an example:\n",
    "    \n",
    "    with open('resources/ex1 - Copy22.csv', mode='w') as csv_file:\n",
    "        writer = csv.DictWriter(\n",
    "            csv_file,\n",
    "            fieldnames=['first_col', 'second_col'] )\n",
    "        writer.writeheader()\n",
    "        # This input dictionary is what the question is referring\n",
    "        # to and is not necessarily correct as shown.\n",
    "        writer.writerow({'first_col':'value1', 'second_col':'value2'})\n",
    "        \n",
    "    Ans :c) Each key must match up to the field names (column names) used to identify the column data"
   ]
  },
  {
   "cell_type": "markdown",
   "metadata": {},
   "source": [
    "    Q55. Which is the correct way to open the CSV file hrdata.csv for reading using the pandas package? Assume that the pandas\n",
    "    package has already been imported.\n",
    "    \n",
    "    Ans : c) pandas.read_csv('hrdata.csv')"
   ]
  },
  {
   "cell_type": "markdown",
   "metadata": {},
   "source": [
    "    Q56. By default, pandas uses 0-based indices for indexing rows. Which is the correct way to import the CSV file hrdata.csv\n",
    "        for reading and using the 'Name' column as the index row instead?\n",
    "        \n",
    "        Below is the contents of hrdata.csv\n",
    "        Name,Hire Date,Salary,Sick Days remaining\n",
    "        Fred,10/10/10,10000,10\n",
    "        \n",
    "    Ans : d) pandas.read_csv('hrdata.csv', index_col=0) "
   ]
  },
  {
   "cell_type": "markdown",
   "metadata": {},
   "source": [
    "    Q57. Given the file dog_breeds.txt, which of the following is the correct way to open the file for reading as a text file? Select all that apply.\n",
    "    \n",
    "    Ans : b) open('dog_breeds.txt', 'r')\n",
    "          c) open('dog_breeds.txt')\n",
    "         "
   ]
  },
  {
   "cell_type": "markdown",
   "metadata": {},
   "source": [
    "    Q58. Given the following directory structure:\n",
    "        Assuming that the cwd is in the root folder where animals reside, what is the full path to \n",
    "        the feline folder?\n",
    "        \n",
    "     Ans : Import os \n",
    "            os.chdir(‘cwd\\\\animals\\\\feline’) \n",
    "            os.getcwd()    "
   ]
  },
  {
   "cell_type": "markdown",
   "metadata": {},
   "source": [
    "    Q59. Given the file jack_russell.png, which of the following is the correct way to open the file for reading as a buffered binary file? Select all that apply.\n",
    "    \n",
    "    Ans : open('jack_russell.png', 'rb')"
   ]
  },
  {
   "cell_type": "markdown",
   "metadata": {},
   "source": [
    "    Q60.Using the same directory structure as before:\n",
    "    Assuming that the cwd is in the root folder where Animals reside, what is the full path to the file bears.gif?\n",
    "    \n",
    "       Ans: Import os \n",
    "            os.chdir(‘cwd\\\\animals\\\\ursine’) \n",
    "            os.getcwd()"
   ]
  },
  {
   "cell_type": "markdown",
   "metadata": {},
   "source": [
    "    Q61. Whenever possible, what is the recommended way to ensure that a file object is properly closed after usage?\n",
    "    \n",
    "    Ans : c) By using the try/finally block"
   ]
  },
  {
   "cell_type": "markdown",
   "metadata": {},
   "source": [
    "    Q62. Using the same directory structure as before:\n",
    "    Assuming that the cwd is in the feline folder, what is the relative path to the file bears.gif?\n",
    "    \n",
    "    Ans: os.path.relpath(‘..\\\\..feline’, ‘animals\\\\ursine’)"
   ]
  },
  {
   "cell_type": "markdown",
   "metadata": {},
   "source": [
    "    Q63. When reading a file using the file object, what method is best for reading the entire file into a single string?\n",
    "    \n",
    "    Ans : b) .read()"
   ]
  },
  {
   "cell_type": "markdown",
   "metadata": {},
   "source": [
    "    Q64. The value 1.73 rounded to one decimal place using the “rounding up” strategy is…\n",
    "    \n",
    "    Ans : b) 1.7"
   ]
  },
  {
   "cell_type": "markdown",
   "metadata": {},
   "source": [
    "    Q65. The value -2.961 rounded to two decimal places using the “rounding down” strategy is…\n",
    "    \n",
    "    Ans : a) -2.96"
   ]
  },
  {
   "cell_type": "markdown",
   "metadata": {},
   "source": [
    "    Q66. When a value is truncated to 3 decimal places, which of the following is true?\n",
    "    \n",
    "    Ans: a) Positive numbers are rounded up, and negative numbers are rounded down."
   ]
  },
  {
   "cell_type": "markdown",
   "metadata": {},
   "source": [
    "    Q67. The value -0.045 rounded to 2 decimal places using the “round half away from zero” strategy is…\n",
    "    \n",
    "    Ans: b) -0.04"
   ]
  },
  {
   "cell_type": "markdown",
   "metadata": {},
   "source": [
    "    Q68. Which rounding strategy does Python’s built-in round() function use?\n",
    "    \n",
    "    Ans:c) Round half up"
   ]
  },
  {
   "cell_type": "markdown",
   "metadata": {},
   "source": [
    "    Q69. The value 4.65 rounded to one decimal place using the “round half to even” strategy is…\n",
    "    \n",
    "    Ans : a) 4.6"
   ]
  },
  {
   "cell_type": "markdown",
   "metadata": {},
   "source": [
    "    Q70. Which problem arises due to the multiple inheritances, if hierarchical inheritance is used previously for its base classes?\n",
    "    \n",
    "    Ans: a) Diamond"
   ]
  },
  {
   "cell_type": "markdown",
   "metadata": {},
   "source": [
    "    Q71. How many classes should a program contain to implement the multiple inheritances?\n",
    "    \n",
    "    Ans:c) At least 3"
   ]
  },
  {
   "cell_type": "markdown",
   "metadata": {},
   "source": [
    "    Q72. If class a inherits class b and class c as “class a: public class b, public class c {// class body ;}; ”, which class constructor will be called first?\n",
    "    \n",
    "    Ans :b) Class b."
   ]
  },
  {
   "cell_type": "markdown",
   "metadata": {},
   "source": [
    "    Q73.If all the members of all base classes are private then,\n",
    "    \n",
    "    Ans :a) There won’t be any use of multiple inheritance"
   ]
  },
  {
   "cell_type": "markdown",
   "metadata": {},
   "source": [
    "    Q74. Can the derived class be made abstract if multiple inheritance is used?\n",
    "    \n",
    "    Ans :d) No, since constructors won’t be there"
   ]
  },
  {
   "cell_type": "markdown",
   "metadata": {},
   "source": [
    "    Q75. Which among the following best defines the multilevel inheritance?\n",
    "    \n",
    "    Ans :c) Continuing single level inheritance"
   ]
  },
  {
   "cell_type": "markdown",
   "metadata": {},
   "source": [
    "    Q76. If there are 5 classes, E is derived from D, D from C, C from B and B from A. Which class constructor will be called first if the object of E or D is created?\n",
    "    \n",
    "    Ans :a) A"
   ]
  },
  {
   "cell_type": "markdown",
   "metadata": {},
   "source": [
    "      Q77. Which Class is having the highest degree of abstraction in multilevel inheritance of 5 levels?\n",
    "        \n",
    "      Ans :a) Class at 1st level"
   ]
  },
  {
   "cell_type": "markdown",
   "metadata": {},
   "source": [
    "    Q78. Multilevel inheritance allows _________________ in the program.\n",
    "    \n",
    "    Ans :d) As many levels of inheritance as required"
   ]
  },
  {
   "cell_type": "markdown",
   "metadata": {},
   "source": [
    "    Q79. If all the classes used parameterized constructors and no default constructor then, ___________\n",
    "    \n",
    "    Ans :b) Object of lower-level classes must call parent class constructors explicitly"
   ]
  },
  {
   "cell_type": "markdown",
   "metadata": {},
   "source": [
    "    Q80. Which is the universal exception handler class?\n",
    "    \n",
    "    Ans:d) Exceptions"
   ]
  },
  {
   "cell_type": "markdown",
   "metadata": {},
   "source": [
    "    Q81. What are two exception classes in the hierarchy of java exceptions class?\n",
    "    \n",
    "    Ans:c) Runtime exceptions and other exceptions"
   ]
  },
  {
   "cell_type": "markdown",
   "metadata": {},
   "source": [
    "    Q82. Which are the two blocks that are used to check error and handle the error?\n",
    "    \n",
    "    Ans:a) Try and catch"
   ]
  },
  {
   "cell_type": "markdown",
   "metadata": {},
   "source": [
    "    Q83. To catch the exceptions ___________________\n",
    "    \n",
    "    Ans:a) An object must be created to catch the exception"
   ]
  },
  {
   "cell_type": "markdown",
   "metadata": {},
   "source": [
    "    Q84. Which class is used to handle the input and output exceptions?\n",
    "    \n",
    "    Ans :c) IOExceptions"
   ]
  },
  {
   "cell_type": "markdown",
   "metadata": {},
   "source": [
    "    Q85. Which among the following is true for the class exceptions?\n",
    "    \n",
    "    Ans:d) Both base class and derived class may produce exceptions"
   ]
  },
  {
   "cell_type": "markdown",
   "metadata": {},
   "source": [
    "    Q86. If both base and derived class caught the exceptions, _____.\n",
    "    \n",
    "    Ans:a) Then catch block of a derived class must be defined before the base class"
   ]
  },
  {
   "cell_type": "markdown",
   "metadata": {},
   "source": [
    "    Q87. The catching of base class the exception _________ in java.\n",
    "    \n",
    "    Ans:b) Before derived class is not allowed by the compiler"
   ]
  },
  {
   "cell_type": "markdown",
   "metadata": {},
   "source": [
    "    Q88. Which of the following handles the undefined class in theprogram?\n",
    "    \n",
    "    Ans:d) ClassNotFoundException"
   ]
  },
  {
   "cell_type": "markdown",
   "metadata": {},
   "source": [
    "    Q89. Which among the following is true?\n",
    "    \n",
    "    Ans:c) Both the base and derived class catch the blocks are important."
   ]
  },
  {
   "cell_type": "markdown",
   "metadata": {},
   "source": [
    "    Q90. Which condition among the following might result in memory exception?\n",
    "    \n",
    "    Ans:c) Infinite loops"
   ]
  },
  {
   "cell_type": "markdown",
   "metadata": {},
   "source": [
    "    Q91. Which among the following is the correct definition for static member functions?\n",
    "    \n",
    "    Ans:b) Functions made to maintain a single copy of member functions for all the objects"
   ]
  },
  {
   "cell_type": "markdown",
   "metadata": {},
   "source": [
    "    Q92. The static member functions __________________\n",
    "    \n",
    "    Ans:c) Having access to only the static members of a class."
   ]
  },
  {
   "cell_type": "markdown",
   "metadata": {},
   "source": [
    "    Q93. Which is the correct syntax to access the static member functions with a class name?\n",
    "    \n",
    "    Ans:d) className :: functionName;"
   ]
  },
  {
   "cell_type": "markdown",
   "metadata": {},
   "source": [
    "    Q94. The static members are ______________________\n",
    "    \n",
    "    Ans:d) Created and initialised, only once"
   ]
  },
  {
   "cell_type": "markdown",
   "metadata": {},
   "source": [
    "    Q95. Which among the following is true?\n",
    "    \n",
    "    Ans:b) Static member functions can’t be overloaded."
   ]
  },
  {
   "cell_type": "markdown",
   "metadata": {},
   "source": [
    "    Q96. The static member functions ______________\n",
    "    \n",
    "    Ans:d) Can’t be declared const, volatile, or constant volatile."
   ]
  },
  {
   "cell_type": "markdown",
   "metadata": {},
   "source": [
    "    Q97. Which among the following can’t be used to access the members in anyway?\n",
    "    \n",
    "    Ans:c) Single colon."
   ]
  },
  {
   "cell_type": "markdown",
   "metadata": {},
   "source": [
    "    Q98. If static data member are made inline, ______________\n",
    "    \n",
    "    Ans:c) Those can be initialised within the class."
   ]
  },
  {
   "cell_type": "markdown",
   "metadata": {},
   "source": [
    "    Q99. The static data member _________________\n",
    "    \n",
    "    Ans:b) Can’t be mutable"
   ]
  },
  {
   "cell_type": "markdown",
   "metadata": {},
   "source": [
    "    Q100. We can use the static member functions and static data member __________________.\n",
    "    \n",
    "    Ans:a) Even if a class object is not created"
   ]
  }
 ],
 "metadata": {
  "kernelspec": {
   "display_name": "Python 3",
   "language": "python",
   "name": "python3"
  },
  "language_info": {
   "codemirror_mode": {
    "name": "ipython",
    "version": 3
   },
   "file_extension": ".py",
   "mimetype": "text/x-python",
   "name": "python",
   "nbconvert_exporter": "python",
   "pygments_lexer": "ipython3",
   "version": "3.7.4"
  }
 },
 "nbformat": 4,
 "nbformat_minor": 2
}
