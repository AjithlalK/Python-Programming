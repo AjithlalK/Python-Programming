{
 "cells": [
  {
   "cell_type": "markdown",
   "metadata": {},
   "source": [
    "    Q121. All pandas data structures are ___mutable but not always _______-mutable.\n",
    "    \n",
    "    Ans:c) value,size."
   ]
  },
  {
   "cell_type": "markdown",
   "metadata": {},
   "source": [
    "    Q122. Point out the correct statement:\n",
    "    \n",
    "    Ans:d) All of the above mentioned."
   ]
  },
  {
   "cell_type": "markdown",
   "metadata": {},
   "source": [
    "    Q123. Which of the following statement will import the pandas?\n",
    "    \n",
    "    Ans:a) import pandas as pd"
   ]
  },
  {
   "cell_type": "markdown",
   "metadata": {},
   "source": [
    "    Q124. Which of the following object did we get after reading the CSV file?\n",
    "    \n",
    "    Ans:a) DataFrame."
   ]
  },
  {
   "cell_type": "markdown",
   "metadata": {},
   "source": [
    "    Q125. Point out the wrong statement:\n",
    "    \n",
    "    Ans:c) The panel is generally 2D labelled, also a size-mutable array."
   ]
  },
  {
   "cell_type": "markdown",
   "metadata": {},
   "source": [
    "    Q126. Which of the following library is similar to the pandas?\n",
    "    \n",
    "    Ans:a) numpy."
   ]
  },
  {
   "cell_type": "markdown",
   "metadata": {},
   "source": [
    "    Q127. Panel is a container for the Series, and DataFrame is a container for DataFrame objects.\n",
    "    \n",
    "    Ans:b) False"
   ]
  },
  {
   "cell_type": "markdown",
   "metadata": {},
   "source": [
    "    Q128. Which of the following is the prominent python “statistics and econometrics library”?\n",
    "    \n",
    "    Ans:c) Statsmodels."
   ]
  },
  {
   "cell_type": "markdown",
   "metadata": {},
   "source": [
    "    Q129. Which of the following is the foundational exploratory visualisation package for the R language in the pandas ecosystem?\n",
    "    \n",
    "    Ans:a) yhat."
   ]
  },
  {
   "cell_type": "markdown",
   "metadata": {},
   "source": [
    "    Q130. Pandas consist of static and the moving window linear and panel regression.\n",
    "    \n",
    "    Ans:a) True"
   ]
  },
  {
   "cell_type": "markdown",
   "metadata": {},
   "source": [
    "    Q131. Quandl API for Python wraps the __ REST API to returns the pandas DataFrames with time series indexes.\n",
    "    \n",
    "    Ans:a) Quandl."
   ]
  },
  {
   "cell_type": "markdown",
   "metadata": {},
   "source": [
    "    Q132. Point out the correct statement:\n",
    "    \n",
    "    Ans:a) Statsmodels provides powerful statistics, econometrics, analysis and the modelling functionality which is out of pandas’ scope"
   ]
  },
  {
   "cell_type": "markdown",
   "metadata": {},
   "source": [
    "    Q133.Which of the following library is used to retrieve and to acquire statistical data and metadata disseminated in SDMX 2.1?\n",
    "    \n",
    "    Ans:a) pandaSDMX"
   ]
  },
  {
   "cell_type": "markdown",
   "metadata": {},
   "source": [
    "    Q134. Which of the following provides the standard API for doing computations with MongoDB?\n",
    "    \n",
    "    Ans:a) Blaze."
   ]
  },
  {
   "cell_type": "markdown",
   "metadata": {},
   "source": [
    "    Q135. Point out the wrong statement:\n",
    "    \n",
    "    Ans:c) Spyder is a cross-platform Qt-based open-source R IDE"
   ]
  },
  {
   "cell_type": "markdown",
   "metadata": {},
   "source": [
    "    Q136. Which of the following makes use of the pandas and returns data in a Series or DataFrame?\n",
    "    \n",
    "    Ans:b) freedapi."
   ]
  },
  {
   "cell_type": "markdown",
   "metadata": {},
   "source": [
    "    Q137. Spyder can introspect and display Pandas DataFrames.\n",
    "    \n",
    "    Ans:b) False"
   ]
  },
  {
   "cell_type": "markdown",
   "metadata": {},
   "source": [
    "    Q138. Which of the following is used for machine learning in the python?\n",
    "    \n",
    "    Ans:a) sci-kit-learn."
   ]
  },
  {
   "cell_type": "markdown",
   "metadata": {},
   "source": [
    "    Q139. The ________ project builds on top of the pandas and matplotlib to provide easy plotting of data.\n",
    "    \n",
    "    Ans:b) Seaborn."
   ]
  },
  {
   "cell_type": "markdown",
   "metadata": {},
   "source": [
    "    Q140 x-ray brings the labelled data power of pandas to the physical sciences.\n",
    "    \n",
    "    Ans:a) True"
   ]
  },
  {
   "cell_type": "markdown",
   "metadata": {},
   "source": [
    "    Q141. Which of the following is the base layer of all of the sparse has it indexed data structures?\n",
    "    \n",
    "    Ans:b) SparseArray."
   ]
  },
  {
   "cell_type": "markdown",
   "metadata": {},
   "source": [
    "    Q142. Point out the correct statement\n",
    "    \n",
    "    Ans:d) All of the mentioned."
   ]
  },
  {
   "cell_type": "markdown",
   "metadata": {},
   "source": [
    "    Q143. Which of the following is not an indexed object?\n",
    "    \n",
    "    Ans:d) None of the mentioned"
   ]
  },
  {
   "cell_type": "markdown",
   "metadata": {},
   "source": [
    "    Q144. Which of the following list like data structure is used for managing the dynamic collection of SparseArrays?\n",
    "    \n",
    "    Ans:a) SparseList."
   ]
  },
  {
   "cell_type": "markdown",
   "metadata": {},
   "source": [
    "    Q145. Point out the wrong statement.\n",
    "    \n",
    "    Ans:a) to_array. append can accept scalar values or any 2-D sequence."
   ]
  },
  {
   "cell_type": "markdown",
   "metadata": {},
   "source": [
    "    Q146. Which of the following method used for transforming the Sparse-series index by the MultiIndex to a scipy.sparse.coo_matrix?\n",
    "    \n",
    "    Ans:a) SparseSeries.to_coo()."
   ]
  },
  {
   "cell_type": "markdown",
   "metadata": {},
   "source": [
    "    Q147. The integer format tracks only the locations and the sizes of blocks of data.\n",
    "    \n",
    "    Ans:b) False"
   ]
  },
  {
   "cell_type": "markdown",
   "metadata": {},
   "source": [
    "    Q148. Which of the following is used for the testing for membership in the list of column names?\n",
    "    \n",
    "    Ans:a) in."
   ]
  },
  {
   "cell_type": "markdown",
   "metadata": {},
   "source": [
    "    Q149. Which of the following indexing capabilities is used as the concise means of selecting data from a pandas object?\n",
    "    \n",
    "    Ans:b) ix"
   ]
  },
  {
   "cell_type": "markdown",
   "metadata": {},
   "source": [
    "    Q150. Pandas follow the NumPy convention of raising an error when you try to convert something to a bool.\n",
    "    \n",
    "    Ans:a) True"
   ]
  }
 ],
 "metadata": {
  "kernelspec": {
   "display_name": "Python 3",
   "language": "python",
   "name": "python3"
  },
  "language_info": {
   "codemirror_mode": {
    "name": "ipython",
    "version": 3
   },
   "file_extension": ".py",
   "mimetype": "text/x-python",
   "name": "python",
   "nbconvert_exporter": "python",
   "pygments_lexer": "ipython3",
   "version": "3.7.4"
  }
 },
 "nbformat": 4,
 "nbformat_minor": 2
}
