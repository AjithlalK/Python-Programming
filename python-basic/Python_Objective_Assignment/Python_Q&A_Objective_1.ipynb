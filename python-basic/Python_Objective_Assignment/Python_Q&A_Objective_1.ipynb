{
 "cells": [
  {
   "cell_type": "markdown",
   "metadata": {},
   "source": [
    "    Q1. How can we create an iterator object from a list?\n",
    "    \n",
    "    Ans : a) Bypassing the given list to the iter() function"
   ]
  },
  {
   "cell_type": "markdown",
   "metadata": {},
   "source": [
    "    Q2. If the function contains at least of one “yield” statement, then it becomes ______\n",
    "    \n",
    "    Ans : b) a generator function"
   ]
  },
  {
   "cell_type": "markdown",
   "metadata": {},
   "source": [
    "    Q3. What is the output of the code?\n",
    "    \n",
    "        1. mylist = [1, 3, 6, 10]\n",
    "        2. a = (x**2 for x in mylist)\n",
    "        3. print(next(a), next(a))\n",
    "        \n",
    "    Ans : b)1 9"
   ]
  },
  {
   "cell_type": "markdown",
   "metadata": {},
   "source": [
    "    Q4. What are the criteria that must be met to create closure in Python?\n",
    "    \n",
    "    Ans : d)All of the above."
   ]
  },
  {
   "cell_type": "markdown",
   "metadata": {},
   "source": [
    "    Q5. What is the output of the code?\n",
    "       \n",
    "        1. def Foo(n):\n",
    "        2.   def multiplier(x):\n",
    "        3.    return x * n\n",
    "        4.   return multiplier\n",
    "        5.\n",
    "        6. a = Foo(5)\n",
    "        7. b = Foo(5)\n",
    "        8.\n",
    "        9. print(a(b(2)))\n",
    "        \n",
    "    Ans :  d) 50    "
   ]
  },
  {
   "cell_type": "markdown",
   "metadata": {},
   "source": [
    "     Q6. What is the output of the code?\n",
    "    \n",
    "    def make_pretty(func):\n",
    "            def inner():\n",
    "                print(\"I got decorated\")\n",
    "                func()\n",
    "            return inner\n",
    "\n",
    "        def ordinary():\n",
    "            print(\"I am ordinary\")\n",
    "            \n",
    "     Ans :    c) I got decorated\n",
    "                I am ordinary "
   ]
  },
  {
   "cell_type": "markdown",
   "metadata": {},
   "source": [
    "    Q7: What is the more pythonic way to use getters and setters?\n",
    "    \n",
    "    Ans : d) @property"
   ]
  },
  {
   "cell_type": "markdown",
   "metadata": {},
   "source": [
    "    Q8. In Python, there is a built-in function property() that returns a property object. The property object has which of the methods?\n",
    "    \n",
    "    Ans : b) getter(), setter() and delete()"
   ]
  },
  {
   "cell_type": "markdown",
   "metadata": {},
   "source": [
    "    Q9. Which of the following statement is true?\n",
    "    \n",
    "    Ans : d) None of the above"
   ]
  },
  {
   "cell_type": "markdown",
   "metadata": {},
   "source": [
    "    Q10. For the following codes, which of the following statements is true?\n",
    "    \n",
    "    Ans : b) Both printHello() and the reference to the same object."
   ]
  },
  {
   "cell_type": "markdown",
   "metadata": {},
   "source": [
    "    Q11. What is the output of the program?\n",
    "        \n",
    "            def outerFunction():\n",
    "                global a\n",
    "                a = 20\n",
    "                def innerFunction():\n",
    "                    global a\n",
    "                    a = 30\n",
    "                    print('a =', a)\n",
    "            a = 10\n",
    "            outerFunction()\n",
    "            print('a =', a)\n",
    "  \n",
    "    Ans : d)a=30 "
   ]
  },
  {
   "cell_type": "markdown",
   "metadata": {},
   "source": [
    "    Q12. Which of the following statements is true?\n",
    "    \n",
    "    Ans : a) A class is a blueprint for the object."
   ]
  },
  {
   "cell_type": "markdown",
   "metadata": {},
   "source": [
    "    Q13. What is the output of the code?\n",
    "    \n",
    "    class Foo:\n",
    "        def printLine(self, line='Python'):\n",
    "            print(line)\n",
    "\n",
    "    o1 = Foo()\n",
    "    o1.printLine('Java')\n",
    "    \n",
    "    Ans : c) Java"
   ]
  },
  {
   "cell_type": "markdown",
   "metadata": {},
   "source": [
    "    Q14. What is the function of the __init__() function in Python?\n",
    "    \n",
    "    Ans : b) This function is called, when the new object is instantiated"
   ]
  },
  {
   "cell_type": "markdown",
   "metadata": {},
   "source": [
    "    Q15. What is the output of the code?\n",
    "    \n",
    "        class Point:\n",
    "            def __init__(self, x = 0, y = 0):\n",
    "                self.x = x+1\n",
    "                self.y = y+1\n",
    "\n",
    "    p1 = Point()\n",
    "    print(p1.x, p1.y)\n",
    "    \n",
    "    Ans : b) 1 1"
   ]
  },
  {
   "cell_type": "markdown",
   "metadata": {},
   "source": [
    "    Q16. Which of the following code used the inheritance feature?\n",
    "    \n",
    "    Ans : c) class Foo:\n",
    "                pass\n",
    "             class Hoo(Foo):\n",
    "                pass"
   ]
  },
  {
   "cell_type": "markdown",
   "metadata": {},
   "source": [
    "    Q17. If you a class is derived from two different classes, it’s called ______\n",
    "    \n",
    "    Ans : b) Multiple Inheritance"
   ]
  },
  {
   "cell_type": "markdown",
   "metadata": {},
   "source": [
    "    Q18.Which of the following statements is true?\n",
    "    \n",
    "    Ans : d) All of the above."
   ]
  },
  {
   "cell_type": "markdown",
   "metadata": {},
   "source": [
    "    Q19. What is the output of the code?\n",
    "    \n",
    "    class Point:\n",
    "  \n",
    "    def __init__(self, x = 0, y = 0):\n",
    "      self.x = x\n",
    "      self.y = y\n",
    "  \n",
    "    def __sub__(self, other):\n",
    "        x = self.x + other.x\n",
    "        y = self.y + other.y\n",
    "        return Point(x,y)\n",
    "        \n",
    "    p1 = Point(3, 4)\n",
    "    p2 = Point(1, 2)\n",
    "    result = p1-p2\n",
    "    print(result.x, result.y)\n",
    "        \n",
    "    Ans : b) 4 6    \n",
    "    \n",
    "    "
   ]
  },
  {
   "cell_type": "markdown",
   "metadata": {},
   "source": [
    "    Q20. Opening a file in ‘a’ mode\n",
    "    \n",
    "    Ans : c) opens the file for appending, at the end of file"
   ]
  },
  {
   "cell_type": "markdown",
   "metadata": {},
   "source": [
    "    Q21. What does the following code do?\n",
    "            f = open(\"test.txt\")\n",
    "    \n",
    "    Ans : b) Opens test.txt file for reading only"
   ]
  },
  {
   "cell_type": "markdown",
   "metadata": {},
   "source": [
    "    Q22. Which of the codes closes files automatically if an exception occurs?\n",
    "    \n",
    "    Ans : d) Both of the above"
   ]
  },
  {
   "cell_type": "markdown",
   "metadata": {},
   "source": [
    "    Q23. For the following code,\n",
    "    \n",
    "        1. f = open('test.txt', 'r', encoding = 'utf-8')\n",
    "        2. f.read()\n",
    "    \n",
    "    Which of the following statement is true\n",
    "    \n",
    "    Ans :d) All of the above."
   ]
  },
  {
   "cell_type": "markdown",
   "metadata": {},
   "source": [
    "    Q24. What does the following code do?\n",
    "            os.listdir()\n",
    "            \n",
    "    Ans : c) Prints all the directories and files inside the given directory        "
   ]
  },
  {
   "cell_type": "markdown",
   "metadata": {},
   "source": [
    "    Q25. Which of the following is correct?\n",
    "        a) An exception is an error that occurs in the runtime.\n",
    "        b) A syntax error is also an exception.\n",
    "        c) An exception is used to exclude a block of code in python.\n",
    "        d) All of the above.\n",
    "        \n",
    "    Ans : a) An exception is an error that occurs in the runtime.    "
   ]
  },
  {
   "cell_type": "markdown",
   "metadata": {},
   "source": [
    "    Q26. What will happen if we try to open the file that doesn’t exist?\n",
    "    \n",
    "    Ans : c) An exception is raised."
   ]
  },
  {
   "cell_type": "markdown",
   "metadata": {},
   "source": [
    "    Q27. What is the output of the code?\n",
    "        \n",
    "        1. number = 5.0\n",
    "        2. try:\n",
    "               3. r = 10/number\n",
    "               4. print(r)\n",
    "        5. except:\n",
    "                6. print(\"Oops! Error occurred.\")\n",
    "                \n",
    "    Ans : b) 2.0            \n",
    "    "
   ]
  },
  {
   "cell_type": "markdown",
   "metadata": {},
   "source": [
    "    Q28. What does the following code do?\n",
    "        \n",
    "        try:\n",
    "            # code that can raise an error\n",
    "        except (TypeError, ZeroDivisionError):\n",
    "             print(\"Two\")\n",
    "\n",
    "     Ans : c) Prints Two if the TypeError or ZeroDivisionError exception occurs."
   ]
  },
  {
   "cell_type": "markdown",
   "metadata": {},
   "source": [
    "    Q29. Which of the following statement is true?\n",
    "    \n",
    "    Ans :b) You can create the user-defined exception by deriving a class from Exception class."
   ]
  },
  {
   "cell_type": "markdown",
   "metadata": {},
   "source": [
    "    Q30. Which of the following statement is true?\n",
    "    \n",
    "    Ans :c) The function is a piece of code that can perform a specific task."
   ]
  },
  {
   "cell_type": "markdown",
   "metadata": {},
   "source": [
    "     Q31. What is the output of the code?\n",
    "     \n",
    "             def printLine(text):\n",
    "                  print(text, 'is awesome.')\n",
    "\n",
    "              printLine('Python')\n",
    "                \n",
    "         Ans : b) Python is awesome.       "
   ]
  },
  {
   "cell_type": "markdown",
   "metadata": {},
   "source": [
    "    Q32. If the return statement is not used inside the function, the function will return:\n",
    "    \n",
    "    Ans : b) None object"
   ]
  },
  {
   "cell_type": "markdown",
   "metadata": {},
   "source": [
    "    Q33. What is the output of the code?\n",
    "    \n",
    "        def greetPerson(*name):\n",
    "            print('Hello', name)\n",
    "\n",
    "        greetPerson('Frodo', 'Sauron')\n",
    "        \n",
    "     Ans : b) Hello ('Frodo', 'Sauron')    \n",
    "    "
   ]
  },
  {
   "cell_type": "markdown",
   "metadata": {},
   "source": [
    "    Q34. What is a recursive function?\n",
    "    \n",
    "    Ans : b) A function that calls itself."
   ]
  },
  {
   "cell_type": "markdown",
   "metadata": {},
   "source": [
    "    Q35. What is the output of the program?\n",
    "    \n",
    "        result = lambda x: x * x\n",
    "        print(result(5))\n",
    "        \n",
    "    Ans : c) 25    "
   ]
  },
  {
   "cell_type": "markdown",
   "metadata": {},
   "source": [
    "    Q36. What is the output of the program?\n",
    "        \n",
    "            def Foo(x):\n",
    "                if (x==1):\n",
    "                    return 1\n",
    "                else:\n",
    "                    return x+Foo(x-1)\n",
    "\n",
    "             print(Foo(4))\n",
    "    Ans : a) 10"
   ]
  },
  {
   "cell_type": "markdown",
   "metadata": {},
   "source": [
    "    Q37. Suppose you need to print pi constant defined in the math module.Which of the following code can do this task?\n",
    "    \n",
    "    Ans : c)from math import pi\n",
    "            print(pi)"
   ]
  },
  {
   "cell_type": "markdown",
   "metadata": {},
   "source": [
    "    Q38. Which operator is used in Python to import modules from the packages?\n",
    "    \n",
    "    Ans : b) * operator"
   ]
  },
  {
   "cell_type": "markdown",
   "metadata": {},
   "source": [
    "    Q39. What is the output of the code?\n",
    "        \n",
    "        numbers = [1, 3, 6]\n",
    "        newNumbers = tuple(map(lambda x: x , numbers))\n",
    "        print(newNumbers)\n",
    "    \n",
    "    Ans:b) (1, 3, 6)    "
   ]
  },
  {
   "cell_type": "markdown",
   "metadata": {},
   "source": [
    "    Q40. What is the output of the code?\n",
    "    \n",
    "        if None:\n",
    "            print(“Hello”)\n",
    "            \n",
    "    Ans: c) Nothing will be printed        "
   ]
  },
  {
   "cell_type": "markdown",
   "metadata": {},
   "source": [
    "    Q41. The if-elif-else executes only one block of code among several blocks.\n",
    "    \n",
    "    Ans : a) True."
   ]
  },
  {
   "cell_type": "markdown",
   "metadata": {},
   "source": [
    "    Q42. What is the output of the code?\n",
    "         \n",
    "         for i in [1, 0]:\n",
    "            print(i+1)\n",
    "            \n",
    "     Ans : a) 2\n",
    "              1       "
   ]
  },
  {
   "cell_type": "markdown",
   "metadata": {},
   "source": [
    "     Q43. In the Python, for and while loop can have the optional else statement?\n",
    "     \n",
    "     Ans : b) Only while loop can have the optional else statement"
   ]
  },
  {
   "cell_type": "markdown",
   "metadata": {},
   "source": [
    "    Q44. What is the output of the code?\n",
    "    \n",
    "            i = sum = 0\n",
    "\n",
    "            while i <= 4:\n",
    "                sum += i\n",
    "                i = i+1\n",
    "    \n",
    "            print(sum)\n",
    "            \n",
    "    Ans : b) 10        "
   ]
  },
  {
   "cell_type": "markdown",
   "metadata": {},
   "source": [
    "    Q45. What is the output of the code?\n",
    "         \n",
    "         while 4 == 4:\n",
    "            print('4')  \n",
    "            \n",
    "     Ans:c) 4 is printed infinitely until the program closes        \n",
    "  "
   ]
  },
  {
   "cell_type": "markdown",
   "metadata": {},
   "source": [
    "    Q46. Is it better to use the for loop instead of while if we are iterating through a sequence?\n",
    "    \n",
    "    Ans : b) Yes, for loop is more pythonic choice."
   ]
  },
  {
   "cell_type": "markdown",
   "metadata": {},
   "source": [
    "    Q47. Which of the following statement is true?\n",
    "    \n",
    "    Ans : d) All of the above."
   ]
  },
  {
   "cell_type": "markdown",
   "metadata": {},
   "source": [
    "    Q48. What is the output of the code?\n",
    "    \n",
    "    for char in 'PYTHON STRING':\n",
    "        if char == ' ':\n",
    "            break\n",
    "        print(char, end='')\n",
    "        if char == 'O':\n",
    "            continue  \n",
    "            \n",
    "     Ans : a) PYTHON       "
   ]
  },
  {
   "cell_type": "markdown",
   "metadata": {},
   "source": [
    "    Q49. Which of the statement is true about the “pass” statement?\n",
    "    \n",
    "    Ans : d) All of the above."
   ]
  },
  {
   "cell_type": "markdown",
   "metadata": {},
   "source": [
    "    Q50. In regards to separated value files such as .csv and .tsv, what is the delimiter?\n",
    "    \n",
    "    Ans : c) Any character such as the comma (,) or tab (\\t) that is used to separate the column data."
   ]
  }
 ],
 "metadata": {
  "kernelspec": {
   "display_name": "Python 3",
   "language": "python",
   "name": "python3"
  },
  "language_info": {
   "codemirror_mode": {
    "name": "ipython",
    "version": 3
   },
   "file_extension": ".py",
   "mimetype": "text/x-python",
   "name": "python",
   "nbconvert_exporter": "python",
   "pygments_lexer": "ipython3",
   "version": "3.7.4"
  }
 },
 "nbformat": 4,
 "nbformat_minor": 2
}
