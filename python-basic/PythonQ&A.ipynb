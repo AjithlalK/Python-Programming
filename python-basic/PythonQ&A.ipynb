{
 "cells": [
  {
   "cell_type": "markdown",
   "metadata": {},
   "source": [
    "    Q1. How can we create an iterator object from a list?\n",
    "    \n",
    "    Ans : a) Bypassing the given list to the iter() function"
   ]
  },
  {
   "cell_type": "markdown",
   "metadata": {},
   "source": [
    "    Q2. If the function contains at least of one “yield” statement, then it becomes ______\n",
    "    \n",
    "    Ans : b) a generator function"
   ]
  },
  {
   "cell_type": "markdown",
   "metadata": {},
   "source": [
    "    Q3. What is the output of the code?\n",
    "    \n",
    "        1. mylist = [1, 3, 6, 10]\n",
    "        2. a = (x**2 for x in mylist)\n",
    "        3. print(next(a), next(a))\n",
    "        \n",
    "    Ans : b)1 9"
   ]
  },
  {
   "cell_type": "markdown",
   "metadata": {},
   "source": [
    "    Q4. What are the criteria that must be met to create closure in Python?\n",
    "    \n",
    "    Ans : d)All of the above."
   ]
  },
  {
   "cell_type": "markdown",
   "metadata": {},
   "source": [
    "    Q5. What is the output of the code?\n",
    "       \n",
    "        1. def Foo(n):\n",
    "        2.   def multiplier(x):\n",
    "        3.    return x * n\n",
    "        4.   return multiplier\n",
    "        5.\n",
    "        6. a = Foo(5)\n",
    "        7. b = Foo(5)\n",
    "        8.\n",
    "        9. print(a(b(2)))\n",
    "        \n",
    "    Ans :  d) 50    "
   ]
  },
  {
   "cell_type": "markdown",
   "metadata": {},
   "source": [
    "     Q6. What is the output of the code?\n",
    "    \n",
    "    def make_pretty(func):\n",
    "            def inner():\n",
    "                print(\"I got decorated\")\n",
    "                func()\n",
    "            return inner\n",
    "\n",
    "        def ordinary():\n",
    "            print(\"I am ordinary\")\n",
    "            \n",
    "     Ans :    c) I got decorated\n",
    "                I am ordinary "
   ]
  },
  {
   "cell_type": "markdown",
   "metadata": {},
   "source": [
    "    Q7: What is the more pythonic way to use getters and setters?\n",
    "    \n",
    "    Ans : d) @property"
   ]
  },
  {
   "cell_type": "markdown",
   "metadata": {},
   "source": [
    "    Q8. In Python, there is a built-in function property() that returns a property object. The property object has which of the methods?\n",
    "    \n",
    "    Ans : b) getter(), setter() and delete()"
   ]
  },
  {
   "cell_type": "markdown",
   "metadata": {},
   "source": [
    "    Q9. Which of the following statement is true?\n",
    "    \n",
    "    Ans : d) None of the above"
   ]
  },
  {
   "cell_type": "markdown",
   "metadata": {},
   "source": [
    "    Q10. For the following codes, which of the following statements is true?\n",
    "    \n",
    "    Ans : b) Both printHello() and the reference to the same object."
   ]
  },
  {
   "cell_type": "markdown",
   "metadata": {},
   "source": [
    "    Q11. What is the output of the program?\n",
    "        \n",
    "            def outerFunction():\n",
    "                global a\n",
    "                a = 20\n",
    "                def innerFunction():\n",
    "                    global a\n",
    "                    a = 30\n",
    "                    print('a =', a)\n",
    "            a = 10\n",
    "            outerFunction()\n",
    "            print('a =', a)\n",
    "  \n",
    "    Ans : d)a=30 "
   ]
  },
  {
   "cell_type": "markdown",
   "metadata": {},
   "source": [
    "    Q12. Which of the following statements is true?\n",
    "    \n",
    "    Ans : a) A class is a blueprint for the object."
   ]
  },
  {
   "cell_type": "markdown",
   "metadata": {},
   "source": [
    "    Q13. What is the output of the code?\n",
    "    \n",
    "    class Foo:\n",
    "        def printLine(self, line='Python'):\n",
    "            print(line)\n",
    "\n",
    "    o1 = Foo()\n",
    "    o1.printLine('Java')\n",
    "    \n",
    "    Ans : c) Java"
   ]
  },
  {
   "cell_type": "markdown",
   "metadata": {},
   "source": [
    "    Q14. What is the function of the __init__() function in Python?\n",
    "    \n",
    "    Ans : b) This function is called, when the new object is instantiated"
   ]
  },
  {
   "cell_type": "markdown",
   "metadata": {},
   "source": [
    "    Q15. What is the output of the code?\n",
    "    \n",
    "        class Point:\n",
    "            def __init__(self, x = 0, y = 0):\n",
    "                self.x = x+1\n",
    "                self.y = y+1\n",
    "\n",
    "    p1 = Point()\n",
    "    print(p1.x, p1.y)\n",
    "    \n",
    "    Ans : b) 1 1"
   ]
  },
  {
   "cell_type": "markdown",
   "metadata": {},
   "source": [
    "    Q16. Which of the following code used the inheritance feature?\n",
    "    \n",
    "    Ans : c) class Foo:\n",
    "                pass\n",
    "             class Hoo(Foo):\n",
    "                pass"
   ]
  },
  {
   "cell_type": "markdown",
   "metadata": {},
   "source": [
    "    Q17. If you a class is derived from two different classes, it’s called ______\n",
    "    \n",
    "    Ans : b) Multiple Inheritance"
   ]
  },
  {
   "cell_type": "markdown",
   "metadata": {},
   "source": [
    "    Q18.Which of the following statements is true?\n",
    "    \n",
    "    Ans : d) All of the above."
   ]
  },
  {
   "cell_type": "markdown",
   "metadata": {},
   "source": [
    "    Q19. What is the output of the code?\n",
    "    \n",
    "    class Point:\n",
    "  \n",
    "    def __init__(self, x = 0, y = 0):\n",
    "      self.x = x\n",
    "      self.y = y\n",
    "  \n",
    "    def __sub__(self, other):\n",
    "        x = self.x + other.x\n",
    "        y = self.y + other.y\n",
    "        return Point(x,y)\n",
    "        \n",
    "    p1 = Point(3, 4)\n",
    "    p2 = Point(1, 2)\n",
    "    result = p1-p2\n",
    "    print(result.x, result.y)\n",
    "        \n",
    "    Ans : b) 4 6    \n",
    "    \n",
    "    "
   ]
  },
  {
   "cell_type": "markdown",
   "metadata": {},
   "source": [
    "    Q20. Opening a file in ‘a’ mode\n",
    "    \n",
    "    Ans : c) opens the file for appending, at the end of file"
   ]
  },
  {
   "cell_type": "markdown",
   "metadata": {},
   "source": [
    "    Q21. What does the following code do?\n",
    "            f = open(\"test.txt\")\n",
    "    \n",
    "    Ans : b) Opens test.txt file for reading only"
   ]
  }
 ],
 "metadata": {
  "kernelspec": {
   "display_name": "Python 3",
   "language": "python",
   "name": "python3"
  },
  "language_info": {
   "codemirror_mode": {
    "name": "ipython",
    "version": 3
   },
   "file_extension": ".py",
   "mimetype": "text/x-python",
   "name": "python",
   "nbconvert_exporter": "python",
   "pygments_lexer": "ipython3",
   "version": "3.7.4"
  }
 },
 "nbformat": 4,
 "nbformat_minor": 2
}
