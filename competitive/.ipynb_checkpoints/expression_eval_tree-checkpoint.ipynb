{
 "cells": [
  {
   "cell_type": "markdown",
   "metadata": {},
   "source": [
    "# Expression Evaluation Using Python Tree"
   ]
  },
  {
   "cell_type": "code",
   "execution_count": null,
   "metadata": {},
   "outputs": [],
   "source": [
    "class Expr:\n",
    "    pass"
   ]
  },
  {
   "cell_type": "code",
   "execution_count": 97,
   "metadata": {},
   "outputs": [],
   "source": [
    "class Multiply(Expr):\n",
    "    def __init__(self,l,r):\n",
    "        self.l=l\n",
    "        self.r=r\n",
    "    \n",
    "    def __str__(self):\n",
    "        return \"(\" + str(self.l) + \"+\" + str(self.r)+ \")\"\n",
    "    \n",
    "    def eval(self,env):\n",
    "        return self.l.eval(env)*self.r.eval(env)"
   ]
  },
  {
   "cell_type": "code",
   "execution_count": 98,
   "metadata": {},
   "outputs": [],
   "source": [
    "class Add(Expr):\n",
    "    def __init__(self,l,r):\n",
    "        self.l=l\n",
    "        self.r=r\n",
    "    \n",
    "    def __str__(self):\n",
    "        return \"(\" + str(self.l) + \"+\" + str(self.r) + \")\"\n",
    "    \n",
    "    def eval(self,env):\n",
    "        return self.l.eval(env)+self.r.eval(env)"
   ]
  },
  {
   "cell_type": "code",
   "execution_count": 99,
   "metadata": {},
   "outputs": [],
   "source": [
    "class Const(Expr):\n",
    "    def __init__(self,val):\n",
    "        self.val=val\n",
    "    \n",
    "    def __str__(self):\n",
    "        return str(self.val)\n",
    "    \n",
    "    def eval(self,env):\n",
    "        return self.val\n",
    "        "
   ]
  },
  {
   "cell_type": "code",
   "execution_count": 100,
   "metadata": {},
   "outputs": [],
   "source": [
    "class Variable(Expr):\n",
    "    def __init__(self,name):\n",
    "        self.name=name\n",
    "    \n",
    "    def __str__(self):\n",
    "        return str(self.name)\n",
    "    \n",
    "    def eval(self,env):\n",
    "        return env[self.name]"
   ]
  },
  {
   "cell_type": "code",
   "execution_count": 101,
   "metadata": {},
   "outputs": [],
   "source": [
    "e1=Multiply(Const(3),Add(Variable(\"y\"),Variable(\"x\")))   #Expression= 3*(y+x)"
   ]
  },
  {
   "cell_type": "code",
   "execution_count": 102,
   "metadata": {},
   "outputs": [],
   "source": [
    "e2=Add(Multiply(Const(3),Variable(\"y\")),Variable(\"x\"))   #Expression= 3*y+x"
   ]
  },
  {
   "cell_type": "code",
   "execution_count": 103,
   "metadata": {},
   "outputs": [
    {
     "name": "stdout",
     "output_type": "stream",
     "text": [
      "((3+y)+x)\n"
     ]
    }
   ],
   "source": [
    "print(e2)"
   ]
  },
  {
   "cell_type": "code",
   "execution_count": 108,
   "metadata": {},
   "outputs": [],
   "source": [
    "env={\"x\":2,\"y\":4}    #Dictionary is using for passing value to the variable"
   ]
  },
  {
   "cell_type": "code",
   "execution_count": 109,
   "metadata": {},
   "outputs": [
    {
     "data": {
      "text/plain": [
       "2"
      ]
     },
     "execution_count": 109,
     "metadata": {},
     "output_type": "execute_result"
    }
   ],
   "source": [
    "env[\"x\"]"
   ]
  },
  {
   "cell_type": "code",
   "execution_count": 110,
   "metadata": {},
   "outputs": [
    {
     "data": {
      "text/plain": [
       "18"
      ]
     },
     "execution_count": 110,
     "metadata": {},
     "output_type": "execute_result"
    }
   ],
   "source": [
    "e1.eval(env)"
   ]
  },
  {
   "cell_type": "code",
   "execution_count": 111,
   "metadata": {},
   "outputs": [
    {
     "data": {
      "text/plain": [
       "14"
      ]
     },
     "execution_count": 111,
     "metadata": {},
     "output_type": "execute_result"
    }
   ],
   "source": [
    "e2.eval(env)"
   ]
  },
  {
   "cell_type": "code",
   "execution_count": null,
   "metadata": {},
   "outputs": [],
   "source": []
  }
 ],
 "metadata": {
  "kernelspec": {
   "display_name": "Python 3",
   "language": "python",
   "name": "python3"
  },
  "language_info": {
   "codemirror_mode": {
    "name": "ipython",
    "version": 3
   },
   "file_extension": ".py",
   "mimetype": "text/x-python",
   "name": "python",
   "nbconvert_exporter": "python",
   "pygments_lexer": "ipython3",
   "version": "3.7.4"
  }
 },
 "nbformat": 4,
 "nbformat_minor": 2
}
